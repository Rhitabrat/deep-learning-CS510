{
  "cells": [
    {
      "cell_type": "markdown",
      "metadata": {
        "id": "view-in-github",
        "colab_type": "text"
      },
      "source": [
        "<a href=\"https://colab.research.google.com/github/Rhitabrat/deep-learning-CS510/blob/main/hw3/main.ipynb\" target=\"_parent\"><img src=\"https://colab.research.google.com/assets/colab-badge.svg\" alt=\"Open In Colab\"/></a>"
      ]
    },
    {
      "cell_type": "markdown",
      "metadata": {
        "id": "zTatBSZIBgc7"
      },
      "source": [
        "HW 3"
      ]
    },
    {
      "cell_type": "code",
      "source": [
        "import tensorflow as tf \n",
        "from tensorflow.keras.applications import ResNet50\n",
        "from tensorflow import keras\n",
        "import numpy as np"
      ],
      "metadata": {
        "id": "hgFMyx6rFu9a"
      },
      "execution_count": 30,
      "outputs": []
    },
    {
      "cell_type": "code",
      "source": [
        "(X_train, y_train), (X_test, y_test) = keras.datasets.mnist.load_data()\n",
        "assert X_train.shape == (60000, 28, 28)\n",
        "assert X_test.shape == (10000, 28, 28)\n",
        "assert y_train.shape == (60000,)\n",
        "assert y_test.shape == (10000,)"
      ],
      "metadata": {
        "id": "vaBd6EmtZ5Va"
      },
      "execution_count": 31,
      "outputs": []
    },
    {
      "cell_type": "code",
      "source": [
        "# expand new axis, channel axis \n",
        "x_train = np.expand_dims(X_train, axis=-1)\n",
        "\n",
        "# [optional]: we may need 3 channel (instead of 1)\n",
        "x_train = np.repeat(x_train, 3, axis=-1)\n",
        "\n",
        "# it's always better to normalize \n",
        "x_train = x_train.astype('float32') / 255\n",
        "\n",
        "# resize the input shape , i.e. old shape: 28, new shape: 32\n",
        "x_train = tf.image.resize(x_train, [32, 32])\n",
        "\n",
        "# one hot \n",
        "y_train = tf.keras.utils.to_categorical(y_train , num_classes=10)\n",
        "\n",
        "print(x_train.shape, y_train.shape)"
      ],
      "metadata": {
        "id": "y-59Du8CZ5ZW",
        "outputId": "679f4160-49f2-45f2-d39e-6193de41eddb",
        "colab": {
          "base_uri": "https://localhost:8080/"
        }
      },
      "execution_count": 32,
      "outputs": [
        {
          "output_type": "stream",
          "name": "stdout",
          "text": [
            "(60000, 32, 32, 3) (60000, 10)\n"
          ]
        }
      ]
    },
    {
      "cell_type": "code",
      "source": [
        ""
      ],
      "metadata": {
        "id": "okLk7G0UZ5gx"
      },
      "execution_count": 32,
      "outputs": []
    },
    {
      "cell_type": "code",
      "source": [
        ""
      ],
      "metadata": {
        "id": "ue2mYwSBZ5kE"
      },
      "execution_count": 32,
      "outputs": []
    },
    {
      "cell_type": "code",
      "source": [
        ""
      ],
      "metadata": {
        "id": "Myyz25yAZ5mE"
      },
      "execution_count": 32,
      "outputs": []
    },
    {
      "cell_type": "code",
      "source": [
        "model = ResNet50(weights=\"imagenet\",\n",
        "                #  input_shape=(224, 224, 3),\n",
        "                 include_top=False)\n",
        "\n",
        "model.trainable = False"
      ],
      "metadata": {
        "id": "ZKdQ8cx7OapD"
      },
      "execution_count": 33,
      "outputs": []
    },
    {
      "cell_type": "code",
      "source": [
        "inputs = keras.Input(shape=(32, 32, 3))\n",
        "\n",
        "# Separately from setting trainable on the model, we set training to False \n",
        "x = model(inputs, training=False)\n",
        "x = keras.layers.GlobalAveragePooling2D()(x)\n",
        "\n",
        "outputs = keras.layers.Dense(10, activation=\"relu\")(x)\n",
        "\n",
        "model = keras.Model(inputs, outputs)"
      ],
      "metadata": {
        "id": "DEkohDxcFvEu"
      },
      "execution_count": 40,
      "outputs": []
    },
    {
      "cell_type": "code",
      "source": [
        "model.summary()"
      ],
      "metadata": {
        "id": "2f93udMYFvLa",
        "outputId": "fad3c31e-baae-46e0-8580-40dd6cc9f0e8",
        "colab": {
          "base_uri": "https://localhost:8080/"
        }
      },
      "execution_count": 41,
      "outputs": [
        {
          "output_type": "stream",
          "name": "stdout",
          "text": [
            "Model: \"model_6\"\n",
            "_________________________________________________________________\n",
            " Layer (type)                Output Shape              Param #   \n",
            "=================================================================\n",
            " input_10 (InputLayer)       [(None, 32, 32, 3)]       0         \n",
            "                                                                 \n",
            " model_5 (Functional)        (None, 1, 1, 10)          23608202  \n",
            "                                                                 \n",
            " global_average_pooling2d_1   (None, 10)               0         \n",
            " (GlobalAveragePooling2D)                                        \n",
            "                                                                 \n",
            " dense_6 (Dense)             (None, 10)                110       \n",
            "                                                                 \n",
            "=================================================================\n",
            "Total params: 23,608,312\n",
            "Trainable params: 20,600\n",
            "Non-trainable params: 23,587,712\n",
            "_________________________________________________________________\n"
          ]
        }
      ]
    },
    {
      "cell_type": "code",
      "source": [
        "model.compile(optimizer=keras.optimizers.Adam(learning_rate=0.001),\n",
        "              loss=keras.losses.CategoricalCrossentropy(name=\"categorial_loss\"),\n",
        "              metrics=[\"accuracy\"])"
      ],
      "metadata": {
        "id": "411nrKlRFvOi"
      },
      "execution_count": 49,
      "outputs": []
    },
    {
      "cell_type": "code",
      "source": [
        "model.fit(x_train, y_train, \n",
        "        #   steps_per_epoch=12, \n",
        "          validation_split=0.2,\n",
        "        #   validation_steps=4, \n",
        "          epochs=5)"
      ],
      "metadata": {
        "id": "C71qCKmoXh6d",
        "outputId": "7c528366-b806-431a-9bba-a449c09f7f0b",
        "colab": {
          "base_uri": "https://localhost:8080/"
        }
      },
      "execution_count": 50,
      "outputs": [
        {
          "output_type": "stream",
          "name": "stdout",
          "text": [
            "Epoch 1/5\n",
            "1500/1500 [==============================] - 27s 16ms/step - loss: 9.9320 - accuracy: 0.2516 - val_loss: 9.9315 - val_accuracy: 0.2741\n",
            "Epoch 2/5\n",
            "1500/1500 [==============================] - 23s 15ms/step - loss: 9.8580 - accuracy: 0.2802 - val_loss: 9.9321 - val_accuracy: 0.2898\n",
            "Epoch 3/5\n",
            "1500/1500 [==============================] - 23s 15ms/step - loss: nan - accuracy: 0.2632 - val_loss: 12.8276 - val_accuracy: 0.1060\n",
            "Epoch 4/5\n",
            "1500/1500 [==============================] - 23s 15ms/step - loss: 12.7650 - accuracy: 0.1140 - val_loss: 12.8162 - val_accuracy: 0.1060\n",
            "Epoch 5/5\n",
            "1500/1500 [==============================] - 23s 15ms/step - loss: 12.7626 - accuracy: 0.1140 - val_loss: 12.8151 - val_accuracy: 0.1060\n"
          ]
        },
        {
          "output_type": "execute_result",
          "data": {
            "text/plain": [
              "<keras.callbacks.History at 0x7fd1a9cbdd10>"
            ]
          },
          "metadata": {},
          "execution_count": 50
        }
      ]
    },
    {
      "cell_type": "code",
      "source": [
        ""
      ],
      "metadata": {
        "id": "JpESD_IIb5Hm"
      },
      "execution_count": null,
      "outputs": []
    }
  ],
  "metadata": {
    "language_info": {
      "name": "python"
    },
    "orig_nbformat": 4,
    "colab": {
      "name": "main.ipynb",
      "provenance": [],
      "machine_shape": "hm",
      "include_colab_link": true
    },
    "kernelspec": {
      "name": "python3",
      "display_name": "Python 3"
    },
    "accelerator": "GPU"
  },
  "nbformat": 4,
  "nbformat_minor": 0
}