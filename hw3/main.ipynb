{
  "cells": [
    {
      "cell_type": "markdown",
      "metadata": {
        "id": "view-in-github",
        "colab_type": "text"
      },
      "source": [
        "<a href=\"https://colab.research.google.com/github/Rhitabrat/deep-learning-CS510/blob/main/hw3/main.ipynb\" target=\"_parent\"><img src=\"https://colab.research.google.com/assets/colab-badge.svg\" alt=\"Open In Colab\"/></a>"
      ]
    },
    {
      "cell_type": "markdown",
      "metadata": {
        "id": "zTatBSZIBgc7"
      },
      "source": [
        "HW 3"
      ]
    },
    {
      "cell_type": "code",
      "source": [
        "import tensorflow as tf \n",
        "from tensorflow.keras.applications import ResNet50\n",
        "from tensorflow import keras\n",
        "import numpy as np\n",
        "import pandas as pd"
      ],
      "metadata": {
        "id": "hgFMyx6rFu9a"
      },
      "execution_count": 84,
      "outputs": []
    },
    {
      "cell_type": "code",
      "source": [
        "(X_train_ori, y_train), (X_test_ori, y_test) = keras.datasets.mnist.load_data()\n",
        "assert X_train_ori.shape == (60000, 28, 28)\n",
        "assert X_test_ori.shape == (10000, 28, 28)\n",
        "assert y_train.shape == (60000,)\n",
        "assert y_test.shape == (10000,)"
      ],
      "metadata": {
        "id": "vaBd6EmtZ5Va"
      },
      "execution_count": 85,
      "outputs": []
    },
    {
      "cell_type": "code",
      "source": [
        "def select_data(n, X_train, y_train):\n",
        "    classes = [0, 1, 2, 3, 4, 5, 6, 7, 8, 9]\n",
        "    indices_all_classes = []\n",
        "\n",
        "    for each_class in classes:\n",
        "        indices = [i for i, x in enumerate(y_train) if x == each_class]\n",
        "        indices_all_classes.append(indices)\n",
        "\n",
        "    new_X_train = []\n",
        "    new_y_train = []\n",
        "\n",
        "    for class_indices in indices_all_classes:\n",
        "        x, y = X_train[class_indices[:n]], y_train[class_indices[:n]]\n",
        "        new_X_train.extend(x)\n",
        "        new_y_train.extend(y)\n",
        "\n",
        "    return new_X_train, new_y_train"
      ],
      "metadata": {
        "id": "yQn0Oqjv5eKp"
      },
      "execution_count": 86,
      "outputs": []
    },
    {
      "cell_type": "markdown",
      "source": [
        "##Exp #1"
      ],
      "metadata": {
        "id": "pcMgebMvbg_g"
      }
    },
    {
      "cell_type": "code",
      "source": [
        "def prepare_data(X_train, y_train):\n",
        "    X_train = np.expand_dims(X_train, axis=-1)\n",
        "    X_train = np.repeat(X_train, 3, axis=-1)\n",
        "    X_train = X_train.astype('float32') / 255\n",
        "    X_train = tf.image.resize(X_train, [224, 224])\n",
        "    y_train = tf.keras.utils.to_categorical(y_train , num_classes=10)\n",
        "    return X_train, y_train"
      ],
      "metadata": {
        "id": "y-59Du8CZ5ZW"
      },
      "execution_count": 87,
      "outputs": []
    },
    {
      "cell_type": "code",
      "source": [
        "def shuffle_data(X_train, y_train, N):\n",
        "    indices = tf.range(start=0, limit=10*N, dtype=tf.int32)\n",
        "    shuffled_indices = tf.random.shuffle(indices)\n",
        "\n",
        "    shuffled_x = tf.gather(X_train, shuffled_indices)\n",
        "    shuffled_y = tf.gather(y_train, shuffled_indices)\n",
        "    return shuffled_x, shuffled_y"
      ],
      "metadata": {
        "id": "okLk7G0UZ5gx"
      },
      "execution_count": 88,
      "outputs": []
    },
    {
      "cell_type": "code",
      "source": [
        "# 10x10 data - 10 from each category\n",
        "\n",
        "N=10\n",
        "X_train, y_train = select_data(N, X_train_ori, y_train)\n",
        "X_train, y_train = prepare_data(X_train, y_train)\n",
        "X_train, y_train = shuffle_data(X_train, y_train, N)"
      ],
      "metadata": {
        "id": "e61963sbRj9N"
      },
      "execution_count": 89,
      "outputs": []
    },
    {
      "cell_type": "code",
      "source": [
        "X_test, y_test = prepare_data(X_test, y_test)"
      ],
      "metadata": {
        "id": "W9CuM5DVlyx3"
      },
      "execution_count": 96,
      "outputs": []
    },
    {
      "cell_type": "code",
      "source": [
        ""
      ],
      "metadata": {
        "id": "5LoYI138ly2D"
      },
      "execution_count": 89,
      "outputs": []
    },
    {
      "cell_type": "code",
      "source": [
        ""
      ],
      "metadata": {
        "id": "UxZKJE8Fly5F"
      },
      "execution_count": 89,
      "outputs": []
    },
    {
      "cell_type": "code",
      "source": [
        ""
      ],
      "metadata": {
        "id": "1eYDsloTly8S"
      },
      "execution_count": 89,
      "outputs": []
    },
    {
      "cell_type": "code",
      "source": [
        ""
      ],
      "metadata": {
        "id": "ue2mYwSBZ5kE"
      },
      "execution_count": 89,
      "outputs": []
    },
    {
      "cell_type": "code",
      "source": [
        ""
      ],
      "metadata": {
        "id": "Myyz25yAZ5mE"
      },
      "execution_count": 89,
      "outputs": []
    },
    {
      "cell_type": "code",
      "source": [
        "resnet_model = ResNet50(weights=\"imagenet\", \n",
        "                        include_top=False)\n",
        "\n",
        "resnet_model.trainable = False"
      ],
      "metadata": {
        "id": "ZKdQ8cx7OapD"
      },
      "execution_count": 90,
      "outputs": []
    },
    {
      "cell_type": "code",
      "source": [
        ""
      ],
      "metadata": {
        "id": "efyKM43KZn8H"
      },
      "execution_count": 90,
      "outputs": []
    },
    {
      "cell_type": "code",
      "source": [
        "# inputs = keras.Input(shape=(224, 224, 3))\n",
        "\n",
        "# # Separately from setting trainable on the model, we set training to False \n",
        "# x = model(inputs, training=False)\n",
        "# x = keras.layers.GlobalAveragePooling2D()(x)\n",
        "# # x = keras.layers.Flatten()(x)\n",
        "\n",
        "# outputs = keras.layers.Dense(10, activation=\"relu\")(x)\n",
        "\n",
        "# model = keras.Model(inputs, outputs)\n",
        "\n",
        "\n",
        "model = keras.models.Sequential()\n",
        "model.add(keras.Input(shape=(224, 224, 3)))\n",
        "model.add(resnet_model)\n",
        "model.add(keras.layers.Flatten())\n",
        "model.add(keras.layers.Dense(10, activation='softmax'))"
      ],
      "metadata": {
        "id": "DEkohDxcFvEu"
      },
      "execution_count": 91,
      "outputs": []
    },
    {
      "cell_type": "markdown",
      "source": [
        ""
      ],
      "metadata": {
        "id": "BSzTGK-dqwVr"
      }
    },
    {
      "cell_type": "code",
      "source": [
        "model.summary()"
      ],
      "metadata": {
        "id": "2f93udMYFvLa",
        "outputId": "b2b50c42-5d7f-41b4-b233-cadb5599d0b7",
        "colab": {
          "base_uri": "https://localhost:8080/"
        }
      },
      "execution_count": 92,
      "outputs": [
        {
          "output_type": "stream",
          "name": "stdout",
          "text": [
            "Model: \"sequential_4\"\n",
            "_________________________________________________________________\n",
            " Layer (type)                Output Shape              Param #   \n",
            "=================================================================\n",
            " resnet50 (Functional)       (None, None, None, 2048)  23587712  \n",
            "                                                                 \n",
            " flatten_4 (Flatten)         (None, 100352)            0         \n",
            "                                                                 \n",
            " dense_7 (Dense)             (None, 10)                1003530   \n",
            "                                                                 \n",
            "=================================================================\n",
            "Total params: 24,591,242\n",
            "Trainable params: 1,003,530\n",
            "Non-trainable params: 23,587,712\n",
            "_________________________________________________________________\n"
          ]
        }
      ]
    },
    {
      "cell_type": "code",
      "source": [
        "model.compile(optimizer=keras.optimizers.Adam(learning_rate=0.001),\n",
        "              loss=keras.losses.CategoricalCrossentropy(name=\"categorial_loss\"),\n",
        "              metrics=[\"accuracy\"])"
      ],
      "metadata": {
        "id": "411nrKlRFvOi"
      },
      "execution_count": 93,
      "outputs": []
    },
    {
      "cell_type": "code",
      "source": [
        "model.fit(X_train, y_train, \n",
        "          steps_per_epoch=8, \n",
        "          validation_split=0.2,\n",
        "          epochs=10)"
      ],
      "metadata": {
        "id": "C71qCKmoXh6d",
        "outputId": "d9f70b7c-f619-4554-a5b7-ba0f937b04d1",
        "colab": {
          "base_uri": "https://localhost:8080/"
        }
      },
      "execution_count": 98,
      "outputs": [
        {
          "output_type": "stream",
          "name": "stdout",
          "text": [
            "Epoch 1/10\n",
            "8/8 [==============================] - 2s 60ms/step - loss: 0.7386 - accuracy: 0.8125 - val_loss: 0.3098 - val_accuracy: 0.9500\n",
            "Epoch 2/10\n",
            "8/8 [==============================] - 0s 36ms/step - loss: 0.6273 - accuracy: 0.7750 - val_loss: 0.9788 - val_accuracy: 0.6500\n",
            "Epoch 3/10\n",
            "8/8 [==============================] - 0s 36ms/step - loss: 0.9721 - accuracy: 0.8125 - val_loss: 0.5491 - val_accuracy: 0.8500\n",
            "Epoch 4/10\n",
            "8/8 [==============================] - 0s 35ms/step - loss: 0.7245 - accuracy: 0.7375 - val_loss: 0.6644 - val_accuracy: 0.8500\n",
            "Epoch 5/10\n",
            "8/8 [==============================] - 0s 36ms/step - loss: 1.0404 - accuracy: 0.7500 - val_loss: 1.8444 - val_accuracy: 0.5500\n",
            "Epoch 6/10\n",
            "8/8 [==============================] - 0s 35ms/step - loss: 1.2042 - accuracy: 0.6750 - val_loss: 1.2710 - val_accuracy: 0.6500\n",
            "Epoch 7/10\n",
            "8/8 [==============================] - 0s 35ms/step - loss: 1.1688 - accuracy: 0.6750 - val_loss: 1.3008 - val_accuracy: 0.7000\n",
            "Epoch 8/10\n",
            "8/8 [==============================] - 0s 36ms/step - loss: 0.5252 - accuracy: 0.8625 - val_loss: 0.7481 - val_accuracy: 0.7000\n",
            "Epoch 9/10\n",
            "8/8 [==============================] - 0s 35ms/step - loss: 0.3707 - accuracy: 0.8500 - val_loss: 0.3616 - val_accuracy: 0.8500\n",
            "Epoch 10/10\n",
            "8/8 [==============================] - 0s 34ms/step - loss: 0.5106 - accuracy: 0.8750 - val_loss: 0.4031 - val_accuracy: 0.8500\n"
          ]
        },
        {
          "output_type": "execute_result",
          "data": {
            "text/plain": [
              "<keras.callbacks.History at 0x7f8952d39fd0>"
            ]
          },
          "metadata": {},
          "execution_count": 98
        }
      ]
    },
    {
      "cell_type": "code",
      "source": [
        "model.evaluate(X_test, y_test)"
      ],
      "metadata": {
        "id": "JpESD_IIb5Hm",
        "outputId": "bf0c776a-b1c6-4c47-d427-0a7c1de92024",
        "colab": {
          "base_uri": "https://localhost:8080/"
        }
      },
      "execution_count": 97,
      "outputs": [
        {
          "output_type": "stream",
          "name": "stdout",
          "text": [
            "313/313 [==============================] - 20s 61ms/step - loss: 1.4343 - accuracy: 0.5531\n"
          ]
        },
        {
          "output_type": "execute_result",
          "data": {
            "text/plain": [
              "[1.4343338012695312, 0.5530999898910522]"
            ]
          },
          "metadata": {},
          "execution_count": 97
        }
      ]
    },
    {
      "cell_type": "code",
      "source": [
        ""
      ],
      "metadata": {
        "id": "Wjko3eNop89X"
      },
      "execution_count": null,
      "outputs": []
    }
  ],
  "metadata": {
    "language_info": {
      "name": "python"
    },
    "orig_nbformat": 4,
    "colab": {
      "name": "main.ipynb",
      "provenance": [],
      "machine_shape": "hm",
      "include_colab_link": true
    },
    "kernelspec": {
      "name": "python3",
      "display_name": "Python 3"
    },
    "accelerator": "GPU"
  },
  "nbformat": 4,
  "nbformat_minor": 0
}