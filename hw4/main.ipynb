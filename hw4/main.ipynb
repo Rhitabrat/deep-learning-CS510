{
  "cells": [
    {
      "cell_type": "markdown",
      "metadata": {
        "id": "view-in-github",
        "colab_type": "text"
      },
      "source": [
        "<a href=\"https://colab.research.google.com/github/Rhitabrat/deep-learning-CS510/blob/main/hw4/main.ipynb\" target=\"_parent\"><img src=\"https://colab.research.google.com/assets/colab-badge.svg\" alt=\"Open In Colab\"/></a>"
      ]
    },
    {
      "cell_type": "markdown",
      "metadata": {
        "id": "U2hPTH0Z8gmH"
      },
      "source": [
        "HW4"
      ]
    },
    {
      "cell_type": "markdown",
      "source": [
        "References\n",
        "\n",
        "https://scikit-learn.org/stable/modules/generated/sklearn.cluster.KMeans.html#sklearn.cluster.KMeans\n",
        "\n",
        "https://smorbieu.gitlab.io/accuracy-from-classification-to-clustering-evaluation/"
      ],
      "metadata": {
        "id": "5TwTqBMJlMjp"
      }
    },
    {
      "cell_type": "code",
      "execution_count": 47,
      "metadata": {
        "id": "wQJerPyt8gmL"
      },
      "outputs": [],
      "source": [
        "import numpy as np\n",
        "import pandas as pd\n",
        "from matplotlib import pyplot as plt\n",
        "from tensorflow import keras\n",
        "import tensorflow as tf\n",
        "from sklearn.cluster import KMeans\n",
        "import seaborn as sns; sns.set()\n",
        "from sklearn.metrics import confusion_matrix\n",
        "from sklearn.metrics import accuracy_score"
      ]
    },
    {
      "cell_type": "code",
      "source": [
        "(X_train_ori, y_train), (X_test_ori, y_test) = keras.datasets.mnist.load_data()\n",
        "assert X_train_ori.shape == (60000, 28, 28)\n",
        "assert X_test_ori.shape == (10000, 28, 28)\n",
        "assert y_train.shape == (60000,)\n",
        "assert y_test.shape == (10000,)"
      ],
      "metadata": {
        "id": "4-ssXPzpa0NL"
      },
      "execution_count": 26,
      "outputs": []
    },
    {
      "cell_type": "code",
      "source": [
        "def select_data(n, X_train, y_train):\n",
        "    classes = [0, 1, 2, 3, 4, 5, 6, 7, 8, 9]\n",
        "    indices_all_classes = []\n",
        "\n",
        "    for each_class in classes:\n",
        "        indices = [i for i, x in enumerate(y_train) if x == each_class]\n",
        "        indices_all_classes.append(indices)\n",
        "\n",
        "    new_X_train = []\n",
        "    new_y_train = []\n",
        "\n",
        "    for class_indices in indices_all_classes:\n",
        "        x, y = X_train[class_indices[:n]], y_train[class_indices[:n]]\n",
        "        new_X_train.extend(x)\n",
        "        new_y_train.extend(y)\n",
        "\n",
        "    return np.array(new_X_train), np.array(new_y_train)"
      ],
      "metadata": {
        "id": "ZN1P_AGra03m"
      },
      "execution_count": 27,
      "outputs": []
    },
    {
      "cell_type": "code",
      "source": [
        "def prepare_data(X_train, y_train):\n",
        "    # X_train = np.expand_dims(X_train, axis=-1)\n",
        "    # X_train = np.repeat(X_train, 3, axis=-1)\n",
        "    X_train = X_train.astype('float32') / 255\n",
        "    # X_train = tf.image.resize(X_train, [224, 224])\n",
        "    # y_train = tf.keras.utils.to_categorical(y_train , num_classes=10)\n",
        "    return X_train, y_train"
      ],
      "metadata": {
        "id": "SIDIwKzPa48D"
      },
      "execution_count": 28,
      "outputs": []
    },
    {
      "cell_type": "code",
      "source": [
        "def shuffle_data(X_train, y_train, N):\n",
        "    indices = tf.range(start=0, limit=10*N, dtype=tf.int32)\n",
        "    shuffled_indices = tf.random.shuffle(indices)\n",
        "\n",
        "    shuffled_x = tf.gather(X_train, shuffled_indices)\n",
        "    shuffled_y = tf.gather(y_train, shuffled_indices)\n",
        "    return shuffled_x.numpy(), shuffled_y.numpy()"
      ],
      "metadata": {
        "id": "m-s7nht4a_0y"
      },
      "execution_count": 29,
      "outputs": []
    },
    {
      "cell_type": "markdown",
      "source": [
        "# QN 1"
      ],
      "metadata": {
        "id": "r37yKShw3dle"
      }
    },
    {
      "cell_type": "markdown",
      "source": [
        "Pick 100 samples from each of the 10 classes. Take all these 1,000 images and run them through a k-means clustering algorithm (k=10)."
      ],
      "metadata": {
        "id": "8Zp2DsUO3y2C"
      }
    },
    {
      "cell_type": "code",
      "source": [
        "# Nx10 data - 10 from each category\n",
        "\n",
        "N=100\n",
        "X_train_100, y_train_100 = select_data(N, X_train_ori, y_train)\n",
        "X_train_100, y_train_100 = prepare_data(X_train_100, y_train_100)\n",
        "X_train_100, y_train_100 = shuffle_data(X_train_100, y_train_100, N)\n",
        "\n",
        "X_train_100 = X_train_100.reshape(len(X_train_100), -1)\n",
        "X_train_100.shape"
      ],
      "metadata": {
        "id": "w-ae7vp0bCQb",
        "outputId": "59fc2c8a-470b-4caf-ee72-49cd07d9aa6e",
        "colab": {
          "base_uri": "https://localhost:8080/"
        }
      },
      "execution_count": 49,
      "outputs": [
        {
          "output_type": "execute_result",
          "data": {
            "text/plain": [
              "(1000, 784)"
            ]
          },
          "metadata": {},
          "execution_count": 49
        }
      ]
    },
    {
      "cell_type": "markdown",
      "source": [
        "## Kmeans"
      ],
      "metadata": {
        "id": "-TqYW-ZUryCL"
      }
    },
    {
      "cell_type": "code",
      "source": [
        "kmeans = KMeans(init=\"k-means++\", n_clusters=10, random_state=0).fit(X_train_100)\n",
        "predicted_labels = kmeans.labels_"
      ],
      "metadata": {
        "id": "pw8OzKpolf8c"
      },
      "execution_count": 73,
      "outputs": []
    },
    {
      "cell_type": "markdown",
      "source": [
        "## Accuracy"
      ],
      "metadata": {
        "id": "Wg0rCZMir726"
      }
    },
    {
      "cell_type": "code",
      "source": [
        "cm = confusion_matrix(y_train_100, predicted_labels)"
      ],
      "metadata": {
        "id": "hnxtMkCLlgAi"
      },
      "execution_count": 74,
      "outputs": []
    },
    {
      "cell_type": "code",
      "source": [
        "ax = sns.heatmap(cm, annot=True, fmt=\"d\", cmap=\"Blues\")"
      ],
      "metadata": {
        "id": "SUIecn7blgHq",
        "outputId": "551a191b-08af-4c17-858f-aed4f1d52011",
        "colab": {
          "base_uri": "https://localhost:8080/",
          "height": 272
        }
      },
      "execution_count": 75,
      "outputs": [
        {
          "output_type": "display_data",
          "data": {
            "image/png": "[encoded data removed]",
            "text/plain": [
              "<Figure size 432x288 with 2 Axes>"
            ]
          },
          "metadata": {}
        }
      ]
    },
    {
      "cell_type": "code",
      "source": [
        "np.trace(cm) / np.sum(cm)"
      ],
      "metadata": {
        "id": "Hw4osaVElgM2",
        "outputId": "b3653bd3-1603-43d6-8e43-3c75e66a2258",
        "colab": {
          "base_uri": "https://localhost:8080/"
        }
      },
      "execution_count": 90,
      "outputs": [
        {
          "output_type": "execute_result",
          "data": {
            "text/plain": [
              "0.155"
            ]
          },
          "metadata": {},
          "execution_count": 90
        }
      ]
    },
    {
      "cell_type": "markdown",
      "source": [
        "*Kmeans gives you cluster numbers that are different from the class labels. You have to convert those clusters numbers to their corresponding class labels, i.e if for example, if more than  50% of images in cluster 1 are from class 5, that cluster should be reassigned number 5.* - from TA"
      ],
      "metadata": {
        "id": "cpQcDg3y3QwT"
      }
    },
    {
      "cell_type": "code",
      "source": [
        "def linear_assignment(cost_matrix):\n",
        "  try:\n",
        "    import lap\n",
        "    _, x, y = lap.lapjv(cost_matrix, extend_cost=True)\n",
        "    return np.array([[y[i], i] for i in x if i >= 0])\n",
        "  except ImportError:\n",
        "    from scipy.optimize import linear_sum_assignment\n",
        "    x, y = linear_sum_assignment(cost_matrix)\n",
        "    return np.array(list(zip(x, y)))\n",
        "\n",
        "def _make_cost_m(cm):\n",
        "    s = np.max(cm)\n",
        "    return (- cm + s)\n",
        "\n",
        "indexes = linear_assignment(_make_cost_m(cm))\n",
        "js = [e[1] for e in sorted(indexes, key=lambda x: x[0])]\n",
        "cm2 = cm[:, js]"
      ],
      "metadata": {
        "id": "J0cTTWtalgPx"
      },
      "execution_count": 91,
      "outputs": []
    },
    {
      "cell_type": "code",
      "source": [
        "ax = sns.heatmap(cm2, annot=True, fmt=\"d\", cmap=\"Blues\")"
      ],
      "metadata": {
        "id": "q8v6UhT1lgU_",
        "outputId": "81ea2296-922e-4967-ba46-85f6ca9d828f",
        "colab": {
          "base_uri": "https://localhost:8080/",
          "height": 272
        }
      },
      "execution_count": 92,
      "outputs": [
        {
          "output_type": "display_data",
          "data": {
            "image/png": "[encoded data removed]",
            "text/plain": [
              "<Figure size 432x288 with 2 Axes>"
            ]
          },
          "metadata": {}
        }
      ]
    },
    {
      "cell_type": "code",
      "source": [
        "np.trace(cm2) / np.sum(cm2)"
      ],
      "metadata": {
        "id": "Nvw5_oai1UC4",
        "outputId": "4413d179-0ab7-452a-a0b7-6da012dbe6f7",
        "colab": {
          "base_uri": "https://localhost:8080/"
        }
      },
      "execution_count": 93,
      "outputs": [
        {
          "output_type": "execute_result",
          "data": {
            "text/plain": [
              "0.467"
            ]
          },
          "metadata": {},
          "execution_count": 93
        }
      ]
    },
    {
      "cell_type": "markdown",
      "source": [
        "# QN 2"
      ],
      "metadata": {
        "id": "7bVXOvPI3ZFG"
      }
    },
    {
      "cell_type": "markdown",
      "source": [
        "This time we will take 1,000 images from each of the 10 MNIST classes giving us 10,000 images. Build an autoencoder and train it."
      ],
      "metadata": {
        "id": "mGQKUYg834dH"
      }
    },
    {
      "cell_type": "code",
      "source": [
        "# Nx10 data - 10 from each category\n",
        "\n",
        "N=1000\n",
        "X_train_1000, y_train_1000 = select_data(N, X_train_ori, y_train)\n",
        "X_train_1000, y_train_1000 = prepare_data(X_train_1000, y_train_1000)\n",
        "X_train_1000, y_train_1000 = shuffle_data(X_train_1000, y_train_1000, N)\n",
        "\n",
        "X_train_1000 = X_train_1000.reshape(len(X_train_1000), -1)\n",
        "X_train_1000.shape"
      ],
      "metadata": {
        "id": "a0Wb2P9R1UJ8",
        "outputId": "5d972c16-843b-4e56-d1d6-01ef2e3b24e5",
        "colab": {
          "base_uri": "https://localhost:8080/"
        }
      },
      "execution_count": 94,
      "outputs": [
        {
          "output_type": "execute_result",
          "data": {
            "text/plain": [
              "(10000, 784)"
            ]
          },
          "metadata": {},
          "execution_count": 94
        }
      ]
    },
    {
      "cell_type": "code",
      "source": [
        ""
      ],
      "metadata": {
        "id": "cH1lml3x1UMo"
      },
      "execution_count": null,
      "outputs": []
    },
    {
      "cell_type": "code",
      "source": [
        ""
      ],
      "metadata": {
        "id": "kTgCBkT81UP4"
      },
      "execution_count": null,
      "outputs": []
    },
    {
      "cell_type": "code",
      "source": [
        ""
      ],
      "metadata": {
        "id": "20WiF4qw06q5"
      },
      "execution_count": null,
      "outputs": []
    },
    {
      "cell_type": "code",
      "source": [
        ""
      ],
      "metadata": {
        "id": "gWvCMyYv06tE"
      },
      "execution_count": null,
      "outputs": []
    },
    {
      "cell_type": "code",
      "source": [
        ""
      ],
      "metadata": {
        "id": "aCa-OmKT06vN"
      },
      "execution_count": null,
      "outputs": []
    },
    {
      "cell_type": "code",
      "source": [
        ""
      ],
      "metadata": {
        "id": "lTjaXEKk06z9"
      },
      "execution_count": null,
      "outputs": []
    },
    {
      "cell_type": "code",
      "source": [
        ""
      ],
      "metadata": {
        "id": "PbmufG4X0620"
      },
      "execution_count": null,
      "outputs": []
    }
  ],
  "metadata": {
    "language_info": {
      "name": "python"
    },
    "orig_nbformat": 4,
    "colab": {
      "name": "main.ipynb",
      "provenance": [],
      "include_colab_link": true
    },
    "kernelspec": {
      "name": "python3",
      "display_name": "Python 3"
    }
  },
  "nbformat": 4,
  "nbformat_minor": 0
}