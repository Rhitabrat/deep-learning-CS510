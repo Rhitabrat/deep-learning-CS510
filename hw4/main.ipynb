{
  "cells": [
    {
      "cell_type": "markdown",
      "metadata": {
        "id": "view-in-github",
        "colab_type": "text"
      },
      "source": [
        "<a href=\"https://colab.research.google.com/github/Rhitabrat/deep-learning-CS510/blob/main/hw4/main.ipynb\" target=\"_parent\"><img src=\"https://colab.research.google.com/assets/colab-badge.svg\" alt=\"Open In Colab\"/></a>"
      ]
    },
    {
      "cell_type": "markdown",
      "metadata": {
        "id": "U2hPTH0Z8gmH"
      },
      "source": [
        "HW4"
      ]
    },
    {
      "cell_type": "code",
      "execution_count": 72,
      "metadata": {
        "id": "wQJerPyt8gmL"
      },
      "outputs": [],
      "source": [
        "import numpy as np\n",
        "import pandas as pd\n",
        "from matplotlib import pyplot as plt\n",
        "from tensorflow import keras\n",
        "import tensorflow as tf \n",
        "from tensorflow.keras.applications import ResNet50\n",
        "from sklearn.cluster import KMeans"
      ]
    },
    {
      "cell_type": "code",
      "source": [
        "(X_train_ori, y_train), (X_test_ori, y_test) = keras.datasets.mnist.load_data()\n",
        "assert X_train_ori.shape == (60000, 28, 28)\n",
        "assert X_test_ori.shape == (10000, 28, 28)\n",
        "assert y_train.shape == (60000,)\n",
        "assert y_test.shape == (10000,)"
      ],
      "metadata": {
        "id": "4-ssXPzpa0NL",
        "outputId": "bcd5a11f-362d-401e-bef6-115f8c5ed037",
        "colab": {
          "base_uri": "https://localhost:8080/"
        }
      },
      "execution_count": 6,
      "outputs": [
        {
          "output_type": "stream",
          "name": "stdout",
          "text": [
            "Downloading data from https://storage.googleapis.com/tensorflow/tf-keras-datasets/mnist.npz\n",
            "11493376/11490434 [==============================] - 0s 0us/step\n",
            "11501568/11490434 [==============================] - 0s 0us/step\n"
          ]
        }
      ]
    },
    {
      "cell_type": "code",
      "source": [
        "def select_data(n, X_train, y_train):\n",
        "    classes = [0, 1, 2, 3, 4, 5, 6, 7, 8, 9]\n",
        "    indices_all_classes = []\n",
        "\n",
        "    for each_class in classes:\n",
        "        indices = [i for i, x in enumerate(y_train) if x == each_class]\n",
        "        indices_all_classes.append(indices)\n",
        "\n",
        "    new_X_train = []\n",
        "    new_y_train = []\n",
        "\n",
        "    for class_indices in indices_all_classes:\n",
        "        x, y = X_train[class_indices[:n]], y_train[class_indices[:n]]\n",
        "        new_X_train.extend(x)\n",
        "        new_y_train.extend(y)\n",
        "\n",
        "    return np.array(new_X_train), np.array(new_y_train)"
      ],
      "metadata": {
        "id": "ZN1P_AGra03m"
      },
      "execution_count": 58,
      "outputs": []
    },
    {
      "cell_type": "code",
      "source": [
        "def prepare_data(X_train, y_train):\n",
        "    # X_train = np.expand_dims(X_train, axis=-1)\n",
        "    # X_train = np.repeat(X_train, 3, axis=-1)\n",
        "    X_train = X_train.astype('float32') / 255\n",
        "    # X_train = tf.image.resize(X_train, [224, 224])\n",
        "    y_train = tf.keras.utils.to_categorical(y_train , num_classes=10)\n",
        "    return X_train, y_train"
      ],
      "metadata": {
        "id": "SIDIwKzPa48D"
      },
      "execution_count": 59,
      "outputs": []
    },
    {
      "cell_type": "code",
      "source": [
        "def shuffle_data(X_train, y_train, N):\n",
        "    indices = tf.range(start=0, limit=10*N, dtype=tf.int32)\n",
        "    shuffled_indices = tf.random.shuffle(indices)\n",
        "\n",
        "    shuffled_x = tf.gather(X_train, shuffled_indices)\n",
        "    shuffled_y = tf.gather(y_train, shuffled_indices)\n",
        "    return shuffled_x, shuffled_y"
      ],
      "metadata": {
        "id": "m-s7nht4a_0y"
      },
      "execution_count": 60,
      "outputs": []
    },
    {
      "cell_type": "code",
      "source": [
        "# 10x10 data - 10 from each category\n",
        "\n",
        "N=10\n",
        "X_train_10, y_train_10 = select_data(N, X_train_ori, y_train)\n",
        "X_train_10, y_train_10 = prepare_data(X_train_10, y_train_10)\n",
        "X_train_10, y_train_10 = shuffle_data(X_train_10, y_train_10, N)"
      ],
      "metadata": {
        "id": "w-ae7vp0bCQb"
      },
      "execution_count": 61,
      "outputs": []
    },
    {
      "cell_type": "code",
      "source": [
        "X_train_10 = X_train_10.numpy().reshape(len(X_train_10), -1)\n",
        "y_train_10 = y_train_10.numpy()"
      ],
      "metadata": {
        "id": "eT7Iye7UjeIq"
      },
      "execution_count": 68,
      "outputs": []
    },
    {
      "cell_type": "code",
      "source": [
        ""
      ],
      "metadata": {
        "id": "p0QPCOO7lf5p"
      },
      "execution_count": 69,
      "outputs": []
    },
    {
      "cell_type": "code",
      "source": [
        "kmeans = KMeans(n_clusters=2, random_state=0).fit(X_train_10)\n"
      ],
      "metadata": {
        "id": "pw8OzKpolf8c",
        "outputId": "1193c2b7-be9f-40e9-ee14-335ecaf9bbf9",
        "colab": {
          "base_uri": "https://localhost:8080/"
        }
      },
      "execution_count": 75,
      "outputs": [
        {
          "output_type": "execute_result",
          "data": {
            "text/plain": [
              "array([1, 0, 1, 0, 1, 1, 0, 1, 0, 1, 1, 1, 1, 1, 0, 1, 0, 1, 1, 1, 0, 1,\n",
              "       1, 1, 1, 1, 1, 0, 1, 1, 0, 1, 1, 1, 1, 1, 1, 1, 1, 1, 1, 1, 1, 1,\n",
              "       1, 1, 1, 1, 1, 1, 0, 1, 1, 1, 1, 1, 0, 0, 1, 0, 1, 1, 0, 1, 1, 1,\n",
              "       1, 1, 1, 0, 1, 1, 0, 1, 1, 1, 1, 1, 1, 0, 0, 1, 0, 1, 1, 1, 1, 0,\n",
              "       1, 1, 1, 0, 0, 1, 0, 1, 1, 1, 1, 1], dtype=int32)"
            ]
          },
          "metadata": {},
          "execution_count": 75
        }
      ]
    },
    {
      "cell_type": "code",
      "source": [
        ""
      ],
      "metadata": {
        "id": "hnxtMkCLlgAi"
      },
      "execution_count": null,
      "outputs": []
    },
    {
      "cell_type": "code",
      "source": [
        ""
      ],
      "metadata": {
        "id": "SUIecn7blgHq"
      },
      "execution_count": null,
      "outputs": []
    },
    {
      "cell_type": "code",
      "source": [
        ""
      ],
      "metadata": {
        "id": "Hw4osaVElgM2"
      },
      "execution_count": null,
      "outputs": []
    },
    {
      "cell_type": "code",
      "source": [
        ""
      ],
      "metadata": {
        "id": "J0cTTWtalgPx"
      },
      "execution_count": null,
      "outputs": []
    },
    {
      "cell_type": "code",
      "source": [
        ""
      ],
      "metadata": {
        "id": "q8v6UhT1lgU_"
      },
      "execution_count": null,
      "outputs": []
    },
    {
      "cell_type": "code",
      "source": [
        ""
      ],
      "metadata": {
        "id": "buE9Z_34lgXS"
      },
      "execution_count": null,
      "outputs": []
    },
    {
      "cell_type": "code",
      "source": [
        ""
      ],
      "metadata": {
        "id": "ibhKXnYwlgZ3"
      },
      "execution_count": null,
      "outputs": []
    },
    {
      "cell_type": "code",
      "source": [
        ""
      ],
      "metadata": {
        "id": "4jfnIAVslgca"
      },
      "execution_count": null,
      "outputs": []
    }
  ],
  "metadata": {
    "language_info": {
      "name": "python"
    },
    "orig_nbformat": 4,
    "colab": {
      "name": "main.ipynb",
      "provenance": [],
      "include_colab_link": true
    },
    "kernelspec": {
      "name": "python3",
      "display_name": "Python 3"
    }
  },
  "nbformat": 4,
  "nbformat_minor": 0
}